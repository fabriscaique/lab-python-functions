{
 "cells": [
  {
   "cell_type": "markdown",
   "id": "25d7736c-ba17-4aff-b6bb-66eba20fbf4e",
   "metadata": {},
   "source": [
    "# Lab | Functions"
   ]
  },
  {
   "cell_type": "markdown",
   "id": "0c581062-8967-4d93-b06e-62833222f930",
   "metadata": {
    "tags": []
   },
   "source": [
    "## Exercise: Managing Customer Orders with Functions\n",
    "\n",
    "In the previous exercise, you improved the code for managing customer orders by using loops and flow control. Now, let's take it a step further and refactor the code by introducing functions.\n",
    "\n",
    "Follow the steps below to complete the exercise:\n",
    "\n",
    "1. Define a function named `initialize_inventory` that takes `products` as a parameter. Inside the function, implement the code for initializing the inventory dictionary using a loop and user input.\n",
    "\n",
    "2. Define a function named `get_customer_orders` that takes no parameters. Inside the function, implement the code for prompting the user to enter the product names using a loop. The function should return the `customer_orders` set.\n",
    "\n",
    "3. Define a function named `update_inventory` that takes `customer_orders` and `inventory` as parameters. Inside the function, implement the code for updating the inventory dictionary based on the customer orders.\n",
    "\n",
    "4. Define a function named `calculate_order_statistics` that takes `customer_orders` and `products` as parameters. Inside the function, implement the code for calculating the order statistics (total products ordered, and percentage of unique products ordered). The function should return these values.\n",
    "\n",
    "5. Define a function named `print_order_statistics` that takes `order_statistics` as a parameter. Inside the function, implement the code for printing the order statistics.\n",
    "\n",
    "6. Define a function named `print_updated_inventory` that takes `inventory` as a parameter. Inside the function, implement the code for printing the updated inventory.\n",
    "\n",
    "7. Call the functions in the appropriate sequence to execute the program and manage customer orders.\n",
    "\n",
    "Hints for functions:\n",
    "\n",
    "- Consider the input parameters required for each function and their return values.\n",
    "- Utilize function parameters and return values to transfer data between functions.\n",
    "- Test your functions individually to ensure they work correctly.\n",
    "\n",
    "\n"
   ]
  },
  {
   "cell_type": "code",
   "execution_count": 1,
   "id": "52719c8c-85b8-4dc5-97e5-68bc865ec171",
   "metadata": {},
   "outputs": [],
   "source": [
    "# Define a function named initialize_inventory that takes products as a parameter. \n",
    "# Inside the function, implement the code for initializing the inventory dictionary using a loop and user input.\n",
    "\n",
    "def initialize_inventory(products): # Function takes a list as argument and returns a dictionary\n",
    "    \n",
    "    inventory = dict() # Create local empty inventory\n",
    "    \n",
    "    for product in products: # Start loop, for each product in the list provided as an argument...\n",
    "        inventory[product] = int(input(f'Enter quantity for {product}: ')) # Ask the user for it's quantity\n",
    "\n",
    "    return inventory # Return dictionary with keys and respective values"
   ]
  },
  {
   "cell_type": "code",
   "execution_count": 3,
   "id": "73049507-6ef3-4093-a102-16d8dd9917fd",
   "metadata": {},
   "outputs": [],
   "source": [
    "# Define a function named get_customer_orders that takes no parameters. \n",
    "# Inside the function, implement the code for prompting the user to enter the product names using a loop. \n",
    "# The function should return the customer_orders set.\n",
    "\n",
    "def get_customer_orders():\n",
    "\n",
    "    customer_orders = set()\n",
    "\n",
    "    while True:\n",
    "        \n",
    "        desired_prod = input('Enter your desired product, or \"check\" to proceed: ') # User can enter desired items \n",
    "        if desired_prod == 'check': # If \"check\" is given as input, the loop breaks\n",
    "            print()\n",
    "            print('Order saved!')\n",
    "            break\n",
    "\n",
    "        customer_orders.add(desired_prod) # Add user input to order set\n",
    "\n",
    "    return customer_orders # return the filled set"
   ]
  },
  {
   "cell_type": "code",
   "execution_count": 4,
   "id": "42951fd7-4544-40d7-ad54-d260c2ac86b7",
   "metadata": {},
   "outputs": [],
   "source": [
    "# Define a function named update_inventory that takes customer_orders and inventory as parameters. \n",
    "# Inside the function, implement the code for updating the inventory dictionary based on the customer orders.\n",
    "\n",
    "def update_inventory(customer_orders, inventory):\n",
    "\n",
    "    for products in customer_orders:\n",
    "        inventory[products] -= 1\n",
    "\n",
    "    return inventory"
   ]
  },
  {
   "cell_type": "code",
   "execution_count": 5,
   "id": "57f5b152-d501-4a7e-9780-6e13787af57c",
   "metadata": {},
   "outputs": [],
   "source": [
    "# Define a function named calculate_order_statistics that takes customer_orders and products as parameters. \n",
    "# Inside the function, implement the code for calculating the order statistics \n",
    "# (total products ordered, and percentage of unique products ordered). The function should return these values.\n",
    "\n",
    "def calc_order_stats(customer_orders, products):\n",
    "    \n",
    "    total_prod_ordered = len(customer_orders)\n",
    "    perc_uniq_prod = total_prod_ordered / len(products) * 100\n",
    "\n",
    "    return total_prod_ordered, perc_uniq_prod # The returned value here is stored in a Tuple. This is very important!"
   ]
  },
  {
   "cell_type": "code",
   "execution_count": 63,
   "id": "973ba778-9126-4994-8334-f535c7a6cd63",
   "metadata": {},
   "outputs": [],
   "source": [
    "# Define a function named print_order_statistics that takes order_statistics as a parameter. \n",
    "# Inside the function, implement the code for printing the order statistics.\n",
    "\n",
    "def print_order_stats(order_stats):\n",
    "    \n",
    "    print(f' Number of items purchased: {order_stats[0]}') # We use indexing to reach specific values of the last function\n",
    "    print(f'Percentage of inventory purchased: {order_stats[1]}%')"
   ]
  },
  {
   "cell_type": "code",
   "execution_count": 65,
   "id": "7f4a4eee-7f06-4ee5-8a7a-b23f18dbf782",
   "metadata": {},
   "outputs": [],
   "source": [
    "# Define a function named print_updated_inventory that takes inventory as a parameter. \n",
    "# Inside the function, implement the code for printing the updated inventory.\n",
    "\n",
    "def print_updated_inventory(inventory):\n",
    "\n",
    "    print(\"Current inventory is:\")\n",
    "    print()\n",
    "    for key, value in inventory.items():\n",
    "        print(f'{key}: {value}')"
   ]
  },
  {
   "cell_type": "code",
   "execution_count": 67,
   "id": "d8245eb2-dda8-4361-bbd8-b2fbda6c5d25",
   "metadata": {},
   "outputs": [],
   "source": [
    "# Pseudocode to structure flow control\n",
    "\n",
    "# 1. Enter every product in the inventory, it uses initialize_inventory()\n",
    "# 2. Get customer orders with a self-named function\n",
    "\n",
    "# 3. Update inventory, this one takes the order and the inventory as parameters.\n",
    "# Therefore, you need these values outside the functions, so both functions NEED to be stored in global variables to be used further.\n",
    "\n",
    "# 4. The same goes for order statistics, they need to be stored in a global variable, so it's valuable is callable in\n",
    "# 5. Print order stats\n",
    "\n",
    "# 6. Finally, we print the updated inventory"
   ]
  },
  {
   "cell_type": "code",
   "execution_count": 59,
   "id": "6ae7b83c-832e-4ce9-a149-47419fd4c347",
   "metadata": {},
   "outputs": [],
   "source": [
    "def run_shop():\n",
    "    \n",
    "    products = [\"t-shirt\", \"mug\", \"hat\", \"book\", \"keychain\"] # Given in previous Labs\n",
    "\n",
    "    inventory = initialize_inventory(products) # Store function inside global variable to further use it's returned value\n",
    "    print() # Clean line to aid visibility\n",
    "    customer_orders = get_customer_orders() # Same here, store function in a global variable\n",
    "\n",
    "    inventory = update_inventory(customer_orders, inventory) # We store a new function inside the same variable to update it\n",
    "\n",
    "    order_stats = calc_order_stats(customer_orders, products) # Calculate the order stats and store them in the respective variable\n",
    "    print()\n",
    "    print_order_stats(order_stats) # We print it\n",
    "    print()\n",
    "    print_updated_inventory(inventory) # Also print this to FINALLY finish"
   ]
  },
  {
   "cell_type": "code",
   "execution_count": 61,
   "id": "29bf3c68-27ed-48b7-85c1-6efa0e0a17c5",
   "metadata": {},
   "outputs": [
    {
     "name": "stdin",
     "output_type": "stream",
     "text": [
      "Enter quantity for t-shirt:  10\n",
      "Enter quantity for mug:  10\n",
      "Enter quantity for hat:  10\n",
      "Enter quantity for book:  10\n",
      "Enter quantity for keychain:  10\n"
     ]
    },
    {
     "name": "stdout",
     "output_type": "stream",
     "text": [
      "\n"
     ]
    },
    {
     "name": "stdin",
     "output_type": "stream",
     "text": [
      "Enter your desired product, or \"check\" to proceed:  book\n",
      "Enter your desired product, or \"check\" to proceed:  check\n"
     ]
    },
    {
     "name": "stdout",
     "output_type": "stream",
     "text": [
      "\n",
      "Order saved!\n",
      "\n",
      " Number of items purchased: 1\n",
      "Percentage of inventory purchased: 20.0\n",
      "\n",
      "Current inventory is:\n",
      "\n",
      "t-shirt: 10\n",
      "mug: 10\n",
      "hat: 10\n",
      "book: 9\n",
      "keychain: 10\n"
     ]
    }
   ],
   "source": [
    "run_shop()"
   ]
  },
  {
   "cell_type": "code",
   "execution_count": null,
   "id": "c89daf62-64ec-47f8-af65-3328108a754d",
   "metadata": {},
   "outputs": [],
   "source": []
  }
 ],
 "metadata": {
  "kernelspec": {
   "display_name": "Python 3 (ipykernel)",
   "language": "python",
   "name": "python3"
  },
  "language_info": {
   "codemirror_mode": {
    "name": "ipython",
    "version": 3
   },
   "file_extension": ".py",
   "mimetype": "text/x-python",
   "name": "python",
   "nbconvert_exporter": "python",
   "pygments_lexer": "ipython3",
   "version": "3.12.4"
  }
 },
 "nbformat": 4,
 "nbformat_minor": 5
}
